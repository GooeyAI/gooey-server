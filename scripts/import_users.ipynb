{
 "cells": [
  {
   "cell_type": "code",
   "execution_count": 1,
   "id": "9cde88dc-abf9-43be-a70a-d053e20dc623",
   "metadata": {},
   "outputs": [
    {
     "name": "stdout",
     "output_type": "stream",
     "text": [
      "/app\n"
     ]
    }
   ],
   "source": [
    "%cd /app"
   ]
  },
  {
   "cell_type": "code",
   "execution_count": 2,
   "id": "6627424d-de6a-4737-810c-f8125955f02f",
   "metadata": {},
   "outputs": [],
   "source": [
    "import os\n",
    "os.environ[\"DJANGO_ALLOW_ASYNC_UNSAFE\"] = \"true\""
   ]
  },
  {
   "cell_type": "code",
   "execution_count": 3,
   "id": "1b95f455-ddb6-4bd1-ba38-3b0f1427af63",
   "metadata": {},
   "outputs": [],
   "source": [
    "from gooeysite import wsgi\n",
    "assert wsgi\n",
    "\n",
    "from multiprocessing.pool import ThreadPool\n",
    "\n",
    "from daras_ai_v2.functional import map_parallel\n",
    "from daras_ai_v2 import db\n",
    "from pages import UsageDashboard\n",
    "\n",
    "from django.db import transaction\n",
    "import streamlit as st\n",
    "from app_users.models import AppUser\n",
    "from pages.UsageDashboard import (\n",
    "    get_all_doc_users,\n",
    "    get_filtered_auth_users,\n",
    ")\n"
   ]
  },
  {
   "cell_type": "code",
   "execution_count": 4,
   "id": "2ce1932f-4dbd-420e-89c3-5ffe84350545",
   "metadata": {},
   "outputs": [],
   "source": [
    "pool = ThreadPool(1000)\n",
    "UsageDashboard.pool = pool"
   ]
  },
  {
   "cell_type": "markdown",
   "id": "b93f05bb-16e0-4ea7-a76e-cabae36e384d",
   "metadata": {},
   "source": [
    "## fetch users"
   ]
  },
  {
   "cell_type": "code",
   "execution_count": 5,
   "id": "7f34f723-d4c3-49a5-a199-9a2d00932515",
   "metadata": {},
   "outputs": [
    {
     "name": "stderr",
     "output_type": "stream",
     "text": [
      "2023-06-18 08:26:18.343 \n",
      "  \u001b[33m\u001b[1mWarning:\u001b[0m to view this Streamlit app on a browser, run it with the following\n",
      "  command:\n",
      "\n",
      "    streamlit run /root/.cache/pypoetry/virtualenvs/ddgai-9TtSrW0h-py3.10/lib/python3.10/site-packages/ipykernel_launcher.py [ARGUMENTS]\n"
     ]
    },
    {
     "name": "stdout",
     "output_type": "stream",
     "text": [
      "doc users: 26120\n"
     ]
    }
   ],
   "source": [
    "doc_users = get_all_doc_users()"
   ]
  },
  {
   "cell_type": "code",
   "execution_count": 6,
   "id": "8fd2a0ed-0dae-4166-bf21-87a6367833de",
   "metadata": {},
   "outputs": [
    {
     "name": "stdout",
     "output_type": "stream",
     "text": [
      "filtered users: 25784\n"
     ]
    }
   ],
   "source": [
    "auth_users = get_filtered_auth_users(\n",
    "    user_ids=[doc.id for doc in doc_users],\n",
    "    exclude_anon=False,\n",
    "    exclude_disabled=False,\n",
    "    exclude_team=False,\n",
    ")"
   ]
  },
  {
   "cell_type": "code",
   "execution_count": 7,
   "id": "c8fff263-527f-406c-a6d4-745de6efaefc",
   "metadata": {},
   "outputs": [
    {
     "data": {
      "text/plain": [
       "25784"
      ]
     },
     "execution_count": 7,
     "metadata": {},
     "output_type": "execute_result"
    }
   ],
   "source": [
    "len(auth_users.values())"
   ]
  },
  {
   "cell_type": "code",
   "execution_count": 8,
   "id": "af4f28fa-8507-48c6-9558-738411103ac4",
   "metadata": {},
   "outputs": [
    {
     "name": "stdout",
     "output_type": "stream",
     "text": [
      "users accounts: 91652\n"
     ]
    }
   ],
   "source": [
    "user_accounts = { acc.id: acc.to_dict() for acc in db.get_collection_ref(db.USERS_COLLECTION).get() }\n",
    "print(\"users accounts:\", len(user_accounts))"
   ]
  },
  {
   "cell_type": "code",
   "execution_count": 9,
   "id": "ef90f82d-2bd7-4c6e-acb8-d5d9e6bce3c2",
   "metadata": {},
   "outputs": [],
   "source": [
    "import mimetypes\n",
    "import requests\n",
    "import datetime\n",
    "\n",
    "\n",
    "def init_app_user(user, account) -> \"AppUser\":\n",
    "    self = AppUser(uid=user.uid)\n",
    "    \n",
    "    # copy data from firebase user\n",
    "    self.uid = user.uid\n",
    "    self.is_disabled = user.disabled\n",
    "    self.display_name = user.display_name or \"\"\n",
    "    self.email = user.email\n",
    "    self.phone_number = user.phone_number\n",
    "    self.created_at = datetime.datetime.fromtimestamp(\n",
    "        user.user_metadata.creation_timestamp / 1000, tz=datetime.timezone.utc\n",
    "    )\n",
    "    # firebase doesn't provide is_anonymous field, so we have to infer it\n",
    "    self.is_anonymous = not (user.display_name or user.email or user.phone_number)\n",
    "    self.balance = account.get(\"balance\") or 0\n",
    "\n",
    "    return self"
   ]
  },
  {
   "cell_type": "code",
   "execution_count": 11,
   "id": "51d7b8a7-64db-4862-be27-8c31df1a9634",
   "metadata": {},
   "outputs": [],
   "source": [
    "users = [\n",
    "    u\n",
    "    for uid, user in auth_users.items()\n",
    "    if (u := init_app_user(user, user_accounts.get(uid,{})))\n",
    "]"
   ]
  },
  {
   "cell_type": "code",
   "execution_count": 12,
   "id": "2bfd3394-8501-4597-b721-91cb40bff03c",
   "metadata": {},
   "outputs": [
    {
     "data": {
      "text/plain": [
       "25784"
      ]
     },
     "execution_count": 12,
     "metadata": {},
     "output_type": "execute_result"
    }
   ],
   "source": [
    "len(users)"
   ]
  },
  {
   "cell_type": "markdown",
   "id": "bce26a2c-891e-4c1b-a2f4-bcdb05514e5b",
   "metadata": {},
   "source": [
    "## save users to db"
   ]
  },
  {
   "cell_type": "code",
   "execution_count": 13,
   "id": "76aa0e68-5cc7-4e6e-a8dd-df5da848950f",
   "metadata": {},
   "outputs": [
    {
     "data": {
      "text/plain": [
       "25784"
      ]
     },
     "execution_count": 13,
     "metadata": {},
     "output_type": "execute_result"
    }
   ],
   "source": [
    "# AppUser.objects.all().delete()\n",
    "for user in users:\n",
    "    try:\n",
    "        AppUser.objects.get(uid=user.uid)\n",
    "    except AppUser.DoesNotExist:\n",
    "        user.save()\n",
    "AppUser.objects.count()        "
   ]
  },
  {
   "cell_type": "markdown",
   "id": "358e1351-0e7e-4bb5-ae83-961874aaf5da",
   "metadata": {},
   "source": [
    "## fetch runs"
   ]
  },
  {
   "cell_type": "code",
   "execution_count": 14,
   "id": "5b96b35a-86be-4eb4-a34e-a80e5c204573",
   "metadata": {},
   "outputs": [
    {
     "name": "stdout",
     "output_type": "stream",
     "text": [
      "pages: 28300\n"
     ]
    },
    {
     "data": {
      "text/plain": [
       "28300"
      ]
     },
     "execution_count": 14,
     "metadata": {},
     "output_type": "execute_result"
    }
   ],
   "source": [
    "page_runs = UsageDashboard.fetch_page_runs(set(auth_users.keys()))\n",
    "len(page_runs)"
   ]
  },
  {
   "cell_type": "code",
   "execution_count": 16,
   "id": "ffba5f1c-7b3f-46f5-ad3c-b5edca7b28c1",
   "metadata": {},
   "outputs": [
    {
     "name": "stdout",
     "output_type": "stream",
     "text": [
      "runs: 195022\n"
     ]
    }
   ],
   "source": [
    "run_refs = UsageDashboard.flat_map(\n",
    "    pool,\n",
    "    lambda page: page.list_documents(),\n",
    "    page_runs,\n",
    ")\n",
    "print(\"runs:\", len(run_refs))"
   ]
  },
  {
   "cell_type": "code",
   "execution_count": null,
   "id": "7b4ee2d3-a0a5-4c9c-a041-4b97136d63c4",
   "metadata": {},
   "outputs": [],
   "source": [
    "runs = pool.map(lambda ref: ref.get(), run_refs)"
   ]
  },
  {
   "cell_type": "markdown",
   "id": "571b7070-d3e4-41b1-ae24-c62378d812e4",
   "metadata": {},
   "source": [
    "# Export to datasette"
   ]
  },
  {
   "cell_type": "code",
   "execution_count": null,
   "id": "5d1f4d1b-9bbe-4f57-84de-32a75fa67cd9",
   "metadata": {},
   "outputs": [],
   "source": [
    "!pip install sqlite_utils"
   ]
  },
  {
   "cell_type": "code",
   "execution_count": null,
   "id": "3874ee58-9cb1-4c81-8411-ddfcc7a8b99a",
   "metadata": {},
   "outputs": [],
   "source": [
    "from django import db\n",
    "db.reset_queries()\n",
    "db.close_old_connections()"
   ]
  },
  {
   "cell_type": "code",
   "execution_count": null,
   "id": "359aca21-a837-4053-be1e-0092cc18b948",
   "metadata": {},
   "outputs": [],
   "source": [
    "from sqlite_utils import Database\n",
    "\n",
    "db = Database(\"export.db\", recreate=True)"
   ]
  },
  {
   "cell_type": "code",
   "execution_count": null,
   "id": "150ef181-61f2-46d7-b108-0656acb71eed",
   "metadata": {},
   "outputs": [],
   "source": [
    "db[\"users\"].insert_all(AppUser.objects.values(), pk=\"uid\")"
   ]
  },
  {
   "cell_type": "code",
   "execution_count": null,
   "id": "caeb6ecb-1f5d-4c29-a3e6-4795ee263085",
   "metadata": {},
   "outputs": [],
   "source": [
    "from daras_ai_v2.base import StateKeys\n",
    "\n",
    "def get_updated_at(d):\n",
    "    try:\n",
    "        dt = d.pop(StateKeys.updated_at)\n",
    "    except KeyError:\n",
    "        return None\n",
    "    if isinstance(dt, str):\n",
    "        return datetime.datetime.fromisoformat(dt)\n",
    "    else:\n",
    "        return datetime.datetime.fromtimestamp(dt.timestamp(), dt.tzinfo)\n",
    "\n",
    "def state_to_cols(r):\n",
    "    d = r.to_dict()\n",
    "    return dict(\n",
    "        page_slug=r.reference.parent.id, \n",
    "        run_id=r.id,\n",
    "        uid=r.reference.parent.parent.id,\n",
    "        updated_at=get_updated_at(d),\n",
    "        error_msg=d.pop(StateKeys.error_msg, None),\n",
    "        run_time=d.pop(StateKeys.run_time, None),\n",
    "        run_status=d.pop(StateKeys.run_status, None),\n",
    "        page_title=d.pop(StateKeys.page_title, None),\n",
    "        page_notes=d.pop(StateKeys.page_notes, None),\n",
    "        state=d, \n",
    "    )    \n",
    "\n",
    "db[\"runs\"].insert_all([ state_to_cols(r) for r in runs ], foreign_keys=[(\"uid\", \"users\", \"uid\")])"
   ]
  },
  {
   "cell_type": "code",
   "execution_count": null,
   "id": "3de04f54-85c3-42b7-bb02-d1a4d5093229",
   "metadata": {},
   "outputs": [],
   "source": [
    "db[\"runs\"].columns"
   ]
  },
  {
   "cell_type": "code",
   "execution_count": null,
   "id": "30e6474d-2273-4781-af73-a443592557ef",
   "metadata": {},
   "outputs": [],
   "source": [
    "!ls -lh export.db"
   ]
  },
  {
   "cell_type": "markdown",
   "id": "f756388c-3b4c-4132-b4b8-eb929a89e8e7",
   "metadata": {},
   "source": [
    "## save user photos"
   ]
  },
  {
   "cell_type": "code",
   "execution_count": null,
   "id": "601b438e-61d7-4839-9425-fefffc155f9f",
   "metadata": {},
   "outputs": [],
   "source": [
    "def fetch_photo(user):\n",
    "    if not user.photo_url or self.photo_url:\n",
    "        return\n",
    "    try:\n",
    "        self = AppUser.objects.get(uid=user.uid)\n",
    "    except AppUser.DoesNotExist:\n",
    "        return\n",
    "    response = requests.get(user.photo_url)\n",
    "    if not response.ok or self.photo_url:\n",
    "        return\n",
    "    ext = mimetypes.guess_extension(response.headers[\"Content-Type\"]) or \"\"\n",
    "    self.photo_url = upload_file_from_bytes(\n",
    "        f\"user_photo_{user.uid}{ext}\", response.content\n",
    "    )\n",
    "pool.apply_async(fetch_photo, auth_users.values())"
   ]
  }
 ],
 "metadata": {
  "kernelspec": {
   "display_name": "Python 3 (ipykernel)",
   "language": "python",
   "name": "python3"
  },
  "language_info": {
   "codemirror_mode": {
    "name": "ipython",
    "version": 3
   },
   "file_extension": ".py",
   "mimetype": "text/x-python",
   "name": "python",
   "nbconvert_exporter": "python",
   "pygments_lexer": "ipython3",
   "version": "3.10.12"
  }
 },
 "nbformat": 4,
 "nbformat_minor": 5
}
